{
 "cells": [
  {
   "cell_type": "code",
   "execution_count": 1,
   "metadata": {},
   "outputs": [],
   "source": [
    "import numpy as np\n",
    "from collections import Counter"
   ]
  },
  {
   "cell_type": "markdown",
   "metadata": {},
   "source": [
    "#### Implementing simple levenstein distance calculation using memory dict to prevent more calls"
   ]
  },
  {
   "cell_type": "code",
   "execution_count": 2,
   "metadata": {},
   "outputs": [],
   "source": [
    "def call_counter(func):\n",
    "    def helper(*args, **kwargs):\n",
    "        helper.calls += 1\n",
    "        return func(*args, **kwargs)\n",
    "    helper.calls = 0\n",
    "    helper.__name__= func.__name__\n",
    "    return helper\n",
    "\n",
    "memory = {}\n",
    "\n",
    "@call_counter\n",
    "def levenshtein(s, t):\n",
    "    if s == \"\":\n",
    "        return len(t)\n",
    "    if t == \"\":\n",
    "        return len(s)\n",
    "    cost = 0 if s[-1] == t[-1] else 1\n",
    "       \n",
    "    i1 = (s[:-1], t)\n",
    "    if not i1 in memory:\n",
    "        memory[i1] = levenshtein(*i1)\n",
    "    i2 = (s, t[:-1])\n",
    "    if not i2 in memory:\n",
    "        memory[i2] = levenshtein(*i2)\n",
    "    i3 = (s[:-1], t[:-1])\n",
    "    if not i3 in memory:\n",
    "        memory[i3] = levenshtein(*i3)\n",
    "    res = min([memory[i1]+1, memory[i2]+1, memory[i3]+cost])\n",
    "    \n",
    "    return res"
   ]
  },
  {
   "cell_type": "code",
   "execution_count": 3,
   "metadata": {},
   "outputs": [
    {
     "name": "stdout",
     "output_type": "stream",
     "text": [
      "3\n",
      "The function was called 49 times!\n"
     ]
    }
   ],
   "source": [
    "print(levenshtein(\"Python\", \"Pethno\"))\n",
    "print(\"The function was called \" + str(levenshtein.calls) + \" times!\")"
   ]
  },
  {
   "cell_type": "markdown",
   "metadata": {},
   "source": [
    "#### Simple implementation of DBScan clustering to form clusters based on Ld "
   ]
  },
  {
   "cell_type": "code",
   "execution_count": 4,
   "metadata": {},
   "outputs": [],
   "source": [
    "words = ['cow','now','bow','apple','sos','combs','andrew','syther','instan']"
   ]
  },
  {
   "cell_type": "markdown",
   "metadata": {},
   "source": [
    "##### Helper functions"
   ]
  },
  {
   "cell_type": "code",
   "execution_count": 5,
   "metadata": {},
   "outputs": [],
   "source": [
    "def return_list_ld(list_words,tword,ld):\n",
    "    list_ids = []\n",
    "    for word in list_words:\n",
    "        if(levenshtein(word,tword)<ld):\n",
    "            list_ids.append(list_words.index(word))\n",
    "    return list_ids        "
   ]
  },
  {
   "cell_type": "code",
   "execution_count": 6,
   "metadata": {},
   "outputs": [],
   "source": [
    "visited = np.zeros(words.__len__())"
   ]
  },
  {
   "cell_type": "markdown",
   "metadata": {},
   "source": [
    "##### clustering forming function..to be optimized later on"
   ]
  },
  {
   "cell_type": "code",
   "execution_count": 7,
   "metadata": {},
   "outputs": [],
   "source": [
    "def grow(words,ld,cur_cluster,cur_index,min_pts,nearby_points,clusters):\n",
    "    clusters[cur_index] = cur_cluster\n",
    "    i=0\n",
    "    while(i<nearby_points.__len__()):\n",
    "        point = nearby_points[i]\n",
    "        if(clusters[point] == -1):\n",
    "            clusters[point] = cur_cluster\n",
    "        elif(clusters[point] == 0):\n",
    "            clusters[point] = cur_cluster\n",
    "            if(nearby_points<return_list_ld(words,words[cur_index],ld)):\n",
    "                nearby_points = nearby_points + return_list_ld(words,words[cur_index],ld)\n",
    "        i +=1\n",
    "    return clusters"
   ]
  },
  {
   "cell_type": "markdown",
   "metadata": {},
   "source": [
    "#### Form clusters based on DBSCAN algo (Density-based spatial clustering of applications with noise)"
   ]
  },
  {
   "cell_type": "code",
   "execution_count": 13,
   "metadata": {},
   "outputs": [],
   "source": [
    "def form_clusters(words,ld,min_pts):\n",
    "    clusters = np.zeros(words.__len__())\n",
    "    cur_cluster = 0\n",
    "    for index in range(0,words.__len__()):\n",
    "        if(clusters[index]!=0):\n",
    "            continue\n",
    "        nearby_points = return_list_ld(words,words[index],ld)\n",
    "        if(nearby_points.__len__()<min_pts):\n",
    "            clusters[index]=-1\n",
    "        else:\n",
    "            cur_cluster+=1\n",
    "            clusters = grow(words,ld,cur_cluster,index,min_pts,nearby_points,clusters)\n",
    "    return clusters       "
   ]
  },
  {
   "cell_type": "code",
   "execution_count": 14,
   "metadata": {},
   "outputs": [],
   "source": [
    "clusters = form_clusters(words,3,1)"
   ]
  },
  {
   "cell_type": "code",
   "execution_count": 15,
   "metadata": {},
   "outputs": [
    {
     "data": {
      "text/plain": [
       "array([1., 1., 1., 2., 1., 3., 4., 5., 6.])"
      ]
     },
     "execution_count": 15,
     "metadata": {},
     "output_type": "execute_result"
    }
   ],
   "source": [
    "clusters"
   ]
  },
  {
   "cell_type": "code",
   "execution_count": 17,
   "metadata": {},
   "outputs": [],
   "source": [
    "clusters = list(map(int, clusters))"
   ]
  },
  {
   "cell_type": "code",
   "execution_count": 20,
   "metadata": {},
   "outputs": [],
   "source": [
    "cluster_dict = {}\n",
    "for ids in set(clusters):\n",
    "    cluster_dict[\"Cluster_{}\".format(ids)] = [words[i] for i, x in enumerate(clusters) if x == ids] "
   ]
  },
  {
   "cell_type": "code",
   "execution_count": 21,
   "metadata": {},
   "outputs": [
    {
     "data": {
      "text/plain": [
       "{'Cluster_1': ['cow', 'now', 'bow', 'sos'],\n",
       " 'Cluster_2': ['apple'],\n",
       " 'Cluster_3': ['combs'],\n",
       " 'Cluster_4': ['andrew'],\n",
       " 'Cluster_5': ['syther'],\n",
       " 'Cluster_6': ['instan']}"
      ]
     },
     "execution_count": 21,
     "metadata": {},
     "output_type": "execute_result"
    }
   ],
   "source": [
    "cluster_dict"
   ]
  },
  {
   "cell_type": "code",
   "execution_count": 22,
   "metadata": {},
   "outputs": [
    {
     "data": {
      "text/plain": [
       "6"
      ]
     },
     "execution_count": 22,
     "metadata": {},
     "output_type": "execute_result"
    }
   ],
   "source": [
    "cluster_dict.__len__()"
   ]
  },
  {
   "cell_type": "markdown",
   "metadata": {},
   "source": [
    "#### Appointing leaders in the clusters based on minimum average distance of one point from the clusters points"
   ]
  },
  {
   "cell_type": "code",
   "execution_count": 39,
   "metadata": {},
   "outputs": [],
   "source": [
    "def appoint_leaders(cluster_list):\n",
    "    minld = 100000\n",
    "    index = 0\n",
    "    for tword in cluster_list:\n",
    "        avgld = 0\n",
    "        for word in cluster_list:\n",
    "            avgld += levenshtein(tword,word)    \n",
    "        if(avgld < minld):\n",
    "            minld = avgld\n",
    "            index = cluster_list.index(tword)\n",
    "    return index"
   ]
  },
  {
   "cell_type": "code",
   "execution_count": 40,
   "metadata": {},
   "outputs": [
    {
     "name": "stdout",
     "output_type": "stream",
     "text": [
      "['cow', 'now', 'bow', 'sos']\n",
      "['apple']\n",
      "['combs']\n",
      "['andrew']\n",
      "['syther']\n"
     ]
    }
   ],
   "source": [
    "cleader_dict = {}\n",
    "for i in range(1,cluster_dict.__len__()):\n",
    "    print(cluster_dict[\"Cluster_{}\".format(i)])\n",
    "    cleader_dict[\"Cluster_leader_{}\".format(i)] = cluster_dict[\"Cluster_{}\".format(i)][appoint_leaders(cluster_dict[\"Cluster_{}\".format(i)])]"
   ]
  },
  {
   "cell_type": "code",
   "execution_count": 41,
   "metadata": {},
   "outputs": [
    {
     "data": {
      "text/plain": [
       "{'Cluster_leader_1': 'cow',\n",
       " 'Cluster_leader_2': 'apple',\n",
       " 'Cluster_leader_3': 'combs',\n",
       " 'Cluster_leader_4': 'andrew',\n",
       " 'Cluster_leader_5': 'syther'}"
      ]
     },
     "execution_count": 41,
     "metadata": {},
     "output_type": "execute_result"
    }
   ],
   "source": [
    "cleader_dict"
   ]
  },
  {
   "cell_type": "markdown",
   "metadata": {},
   "source": [
    "#### Make clusters searchable and device strategy to graph search"
   ]
  },
  {
   "cell_type": "code",
   "execution_count": null,
   "metadata": {},
   "outputs": [],
   "source": []
  }
 ],
 "metadata": {
  "kernelspec": {
   "display_name": "Python 3",
   "language": "python",
   "name": "python3"
  },
  "language_info": {
   "codemirror_mode": {
    "name": "ipython",
    "version": 3
   },
   "file_extension": ".py",
   "mimetype": "text/x-python",
   "name": "python",
   "nbconvert_exporter": "python",
   "pygments_lexer": "ipython3",
   "version": "3.6.8"
  }
 },
 "nbformat": 4,
 "nbformat_minor": 2
}
