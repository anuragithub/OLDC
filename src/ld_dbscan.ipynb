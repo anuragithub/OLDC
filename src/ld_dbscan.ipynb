{
 "cells": [
  {
   "cell_type": "code",
   "execution_count": 2,
   "metadata": {},
   "outputs": [],
   "source": [
    "import numpy as np\n",
    "from collections import Counter"
   ]
  },
  {
   "cell_type": "markdown",
   "metadata": {},
   "source": [
    "#### Implementing simple levenstein distance calculation using memory dict to prevent more calls"
   ]
  },
  {
   "cell_type": "code",
   "execution_count": 9,
   "metadata": {},
   "outputs": [],
   "source": [
    "def call_counter(func):\n",
    "    def helper(*args, **kwargs):\n",
    "        helper.calls += 1\n",
    "        return func(*args, **kwargs)\n",
    "    helper.calls = 0\n",
    "    helper.__name__= func.__name__\n",
    "    return helper\n",
    "\n",
    "memory = {}\n",
    "\n",
    "@call_counter\n",
    "def levenshtein(s, t):\n",
    "    if s == \"\":\n",
    "        return len(t)\n",
    "    if t == \"\":\n",
    "        return len(s)\n",
    "    cost = 0 if s[-1] == t[-1] else 1\n",
    "       \n",
    "    i1 = (s[:-1], t)\n",
    "    if not i1 in memory:\n",
    "        memory[i1] = levenshtein(*i1)\n",
    "    i2 = (s, t[:-1])\n",
    "    if not i2 in memory:\n",
    "        memory[i2] = levenshtein(*i2)\n",
    "    i3 = (s[:-1], t[:-1])\n",
    "    if not i3 in memory:\n",
    "        memory[i3] = levenshtein(*i3)\n",
    "    res = min([memory[i1]+1, memory[i2]+1, memory[i3]+cost])\n",
    "    \n",
    "    return res"
   ]
  },
  {
   "cell_type": "code",
   "execution_count": 10,
   "metadata": {},
   "outputs": [
    {
     "name": "stdout",
     "output_type": "stream",
     "text": [
      "3\n",
      "The function was called 49 times!\n"
     ]
    }
   ],
   "source": [
    "print(levenshtein(\"Python\", \"Pethno\"))\n",
    "print(\"The function was called \" + str(levenshtein.calls) + \" times!\")"
   ]
  },
  {
   "cell_type": "markdown",
   "metadata": {},
   "source": [
    "#### Simple implementation of DBScan clustering to form clusters based on Ld "
   ]
  },
  {
   "cell_type": "code",
   "execution_count": 11,
   "metadata": {},
   "outputs": [],
   "source": [
    "words = ['cow','now','bow','apple','sos','combs','andrew','syther','instan']"
   ]
  },
  {
   "cell_type": "markdown",
   "metadata": {},
   "source": [
    "##### Helper functions"
   ]
  },
  {
   "cell_type": "code",
   "execution_count": 13,
   "metadata": {},
   "outputs": [],
   "source": [
    "def return_list_ld(list_words,tword,ld):\n",
    "    list_ids = []\n",
    "    for word in list_words:\n",
    "        if(levenshtein(word,tword)<ld):\n",
    "            list_ids.append(list_words.index(word))\n",
    "    return list_ids        "
   ]
  },
  {
   "cell_type": "code",
   "execution_count": 14,
   "metadata": {},
   "outputs": [],
   "source": [
    "visited = np.zeros(words.__len__())"
   ]
  },
  {
   "cell_type": "markdown",
   "metadata": {},
   "source": [
    "##### clustering forming function..to be optimized later on"
   ]
  },
  {
   "cell_type": "code",
   "execution_count": 15,
   "metadata": {},
   "outputs": [],
   "source": [
    "def grow(words,ld):\n",
    "    cluster = np.zeros(words.__len__())\n",
    "    for word,visit in zip(words,visited):\n",
    "        if(visit==0):\n",
    "            visit=1\n",
    "            indexes = return_list_ld(words,word,ld)\n",
    "            if(len(indexes)):\n",
    "                for i in indexes:\n",
    "                    cluster[i] = words.index(word)\n",
    "    return cluster            "
   ]
  },
  {
   "cell_type": "code",
   "execution_count": 16,
   "metadata": {},
   "outputs": [],
   "source": [
    "clusters = grow(words,3)\n",
    "clusters = list(map(int, clusters))"
   ]
  },
  {
   "cell_type": "code",
   "execution_count": 17,
   "metadata": {},
   "outputs": [],
   "source": [
    "cluster_dict = {}\n",
    "for ids in set(clusters):\n",
    "    cluster_dict[words[ids]] = [words[i] for i, x in enumerate(clusters) if x == ids]  "
   ]
  },
  {
   "cell_type": "code",
   "execution_count": 18,
   "metadata": {},
   "outputs": [
    {
     "data": {
      "text/plain": [
       "{'apple': ['apple'],\n",
       " 'sos': ['cow', 'now', 'bow', 'sos'],\n",
       " 'combs': ['combs'],\n",
       " 'andrew': ['andrew'],\n",
       " 'syther': ['syther'],\n",
       " 'instan': ['instan']}"
      ]
     },
     "execution_count": 18,
     "metadata": {},
     "output_type": "execute_result"
    }
   ],
   "source": [
    "cluster_dict"
   ]
  },
  {
   "cell_type": "markdown",
   "metadata": {},
   "source": [
    "#### next step is to query the clustered words, when new word comes"
   ]
  },
  {
   "cell_type": "code",
   "execution_count": null,
   "metadata": {},
   "outputs": [],
   "source": []
  }
 ],
 "metadata": {
  "kernelspec": {
   "display_name": "Python 3",
   "language": "python",
   "name": "python3"
  },
  "language_info": {
   "codemirror_mode": {
    "name": "ipython",
    "version": 3
   },
   "file_extension": ".py",
   "mimetype": "text/x-python",
   "name": "python",
   "nbconvert_exporter": "python",
   "pygments_lexer": "ipython3",
   "version": "3.6.8"
  }
 },
 "nbformat": 4,
 "nbformat_minor": 2
}
